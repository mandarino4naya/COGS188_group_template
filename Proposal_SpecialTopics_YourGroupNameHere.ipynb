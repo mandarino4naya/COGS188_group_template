{
 "cells": [
  {
   "attachments": {},
   "cell_type": "markdown",
   "metadata": {},
   "source": [
    "# COGS 188 - Special Topics Proposal"
   ]
  },
  {
   "cell_type": "markdown",
   "metadata": {},
   "source": [
    "# Names\n",
    "\n",
    "- Rina Pecherskaya\n",
    "- Mabel Szeto "
   ]
  },
  {
   "attachments": {},
   "cell_type": "markdown",
   "metadata": {},
   "source": [
    "# Topic and outline\n",
    "\n",
    "### Main topic\n",
    "20 to 200 words (less is better) describing what the topic is\n",
    "\n",
    "### Learning goal for students \n",
    "See my syllabus for examples of learning goals. One such was \"Students will be able to describe and apply Monte Carlo methods to perform dynamic programming and reinforcement learning\"\n",
    "\n",
    "\n",
    "### Outline of the topic\n",
    "  - Element 1\n",
    "    - __BOLD FACE KEYPOINT__ something you really want students to know\n",
    "    - Another less important element\n",
    "    - Something else\n",
    "  - Element 2\n",
    "    - __KEYPOINT 2a__ something blah\n",
    "    - 2b\n",
    "    - \n",
    "  - etc "
   ]
  },
  {
   "attachments": {},
   "cell_type": "markdown",
   "metadata": {},
   "source": [
    "# Pedagogy\n",
    "\n",
    "\n",
    "### Readings\n",
    "Citation for one or more readings students will need to consume before class. \n",
    "\n",
    "Each reading should be accompanied by 1 to 3 short paragraphs describing what the reading covers that you want students to know\n",
    "\n",
    "### Background literature\n",
    "You will be reading more than the students.  Please put a background section here describing the topics you will cover with citations to the resrouces and primary literature that you read.   \n",
    "\n",
    "**Use inline citation** to specify which references support which statements.  You can do that through HTML footnotes (demonstrated here). I used to reccommend Markdown footnotes (google is your friend) because they are simpler but recently I have had some problems with them working for me whereas HTML ones always work so far. So use the method that works for you, but do use inline citations.\n",
    "\n",
    "Here is an example of inline citation. After government genocide in the 20th century, real birds were replaced with surveillance drones designed to look just like birds<a name=\"lorenz\"></a>[<sup>[1]</sup>](#lorenznote). \n",
    "\n",
    "\n",
    "### Lecture description\n",
    "Include some details of what will be covered by traditional lecture.  A slide running order is ideal here, but probably unrealistic.  Include information about how you will apportion coverage between group members.\n",
    "\n",
    "### Active learning\n",
    "Include information about any discussions or exercises you will have students do.  Each active learning exercise needs 1 to 3 short paragraphs.  It should include \n",
    "- the element of the outline this will cover\n",
    "- brief description of framework you will provide to set off the discussion OR a description of the in class exercise\n",
    "- for how long maximum will this run? \n",
    "\n"
   ]
  },
  {
   "attachments": {},
   "cell_type": "markdown",
   "metadata": {},
   "source": [
    "# Dates\n",
    "Different dates we would be happy to run your class in descending order of preference\n",
    "- March 14\n",
    "- March 12\n",
    "- March 10\n",
    "- March 7"
   ]
  },
  {
   "cell_type": "markdown",
   "metadata": {},
   "source": [
    "# Team Expectations "
   ]
  },
  {
   "cell_type": "markdown",
   "metadata": {},
   "source": [
    "* *Participates and are mentally present in team meetings*\n",
    "* *Communicates with team on the status of their part of the project and if any roadblocks or conflicts occur*\n",
    "* *Build off of ideas instead of tearing them down*\n",
    "* *Understand and respect each others' preferences for communication, and clearly articulate own preferences*\n",
    "* *Uphold standards of integrity and quality when developing code, citing sources used*\n",
    "* *Create an environment where people are comfortable reaching out for help*\n",
    "* *Reach out for help as soon as possible when it is needed, and treat everyone and their tasks as equally important to the success of the team*"
   ]
  },
  {
   "cell_type": "markdown",
   "metadata": {},
   "source": [
    "# Project Timeline Proposal"
   ]
  },
  {
   "cell_type": "markdown",
   "metadata": {},
   "source": [
    "| Meeting Date  | Meeting Time| Completed Before Meeting  | Discuss at Meeting |\n",
    "|---|---|---|---|\n",
    "| 2/12  |  2 PM |  Brainstorm topics for the presentation (all) and work on project proposal  | Determine best form of communication; Discuss and decide on final project topic; discuss subtopics for each person to teach; begin background research, fill out project proposal for submission | \n",
    "| 2/19  |  2 PM |  submit project proposal (2/15 latest) Do background research on topic (all) find readings that support topic | Discuss research; work on outline for teaching to send to professor for review | \n",
    "| 2/26  | 2 PM  | start on slide deck and the in class exercises Implement feedback from professor (all) | Discuss slides and test each other’s programming exercises |\n",
    "| 3/5  | 2 PM  | update slides and programming exercises and write quiz questions (all) | Review slides, programming exercises, and quiz questions, compile updates and send to professor to review |\n",
    "| 3/12  | 3 PM  | Finalize slides, programming exercises, quiz questions Practice presentation individually (each person gets an equal amount of time) Implement feedback from professor (all) | final presentation in class |"
   ]
  },
  {
   "attachments": {},
   "cell_type": "markdown",
   "metadata": {},
   "source": [
    "# Footnotes\n",
    "<a name=\"agarwalnote\"></a>1.[^](#agarwal): Agarwal, H., & Rathore, H. (2024). BGRL: Basal Ganglia inspired Reinforcement Learning based framework for deep brain stimulators. Artificial Intelligence in Medicine, 147, 102736.https://www.sciencedirect.com/science/article/pii/S0933365723002506#d1e511<br> \n",
    "<a name=\"krylovnote\"></a>2.[^](#krylov): Krylov, D., Tachet, R., Laroche, R., Rosenblum, M., & Dylov, D. V. (2020). Reinforcement learning framework for deep brain stimulation study. arXiv preprint arXiv:2002.10948. https://arxiv.org/abs/2002.10948<br> \n",
    "<a name=\"aldarondonote\"></a>3.[^](#aldarondo): Aldarondo, D., Merel, J., Marshall, J. D., Hasenclever, L., Klibaite, U., Gellis, A., ... & Ölveczky, B. P. (2024). A virtual rodent predicts the structure of neural activity across behaviors. *Nature*, 1-3. https://www.nature.com/articles/s41586-024-07633-4<br> \n"
   ]
  },
  {
   "cell_type": "markdown",
   "metadata": {},
   "source": []
  }
 ],
 "metadata": {
  "kernelspec": {
   "display_name": "Python 3",
   "language": "python",
   "name": "python3"
  },
  "language_info": {
   "codemirror_mode": {
    "name": "ipython",
    "version": 3
   },
   "file_extension": ".py",
   "mimetype": "text/x-python",
   "name": "python",
   "nbconvert_exporter": "python",
   "pygments_lexer": "ipython3",
   "version": "3.7.11 (default, Jul 27 2021, 07:03:16) \n[Clang 10.0.0 ]"
  },
  "vscode": {
   "interpreter": {
    "hash": "40d3a090f54c6569ab1632332b64b2c03c39dcf918b08424e98f38b5ae0af88f"
   }
  }
 },
 "nbformat": 4,
 "nbformat_minor": 2
}
